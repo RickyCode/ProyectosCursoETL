{
 "cells": [
  {
   "cell_type": "code",
   "execution_count": 0,
   "metadata": {
    "colab": {},
    "colab_type": "code",
    "id": "ciVXbYkBBoDQ"
   },
   "outputs": [],
   "source": [
    "__author__ = 'Ricardo Del Río Guzmán'\n",
    "\n",
    "'''DEFINICIONES DE FUNCIONES'''\n",
    "\n",
    "# ---------------------------------- FUNCIONES SOLICITADAS\n",
    "\n",
    "def leer_diccionario(nom_archivo):\n",
    "  diccionario = {}\n",
    "  with open(nom_archivo, 'r', encoding='utf-8') as archivo:\n",
    "    lineas = archivo.readlines()\n",
    "  for linea in lineas:\n",
    "    palabras = linea.strip().split()\n",
    "    diccionario[palabras[0]] = palabras[1:]\n",
    "  return diccionario\n",
    "\n",
    "def leer_texto(nom_archivo):\n",
    "  with open(nom_archivo, 'r', encoding='utf-8') as archivo:\n",
    "    return archivo.readlines()\n",
    "\n",
    "def separar_palabras(lista_lineas, separador=' '):\n",
    "  matriz = [linea.strip().strip('\\ufeff').strip('.').split(separador) for linea in lista_lineas]\n",
    "  lista_palabras = []\n",
    "  for linea in matriz:\n",
    "    lista_palabras += linea\n",
    "  return lista_palabras\n",
    "\n",
    "def cambiar_palabras(lista_palabras, diccionario):\n",
    "  generador = gen_cambio_palabras(diccionario)\n",
    "  next(generador)\n",
    "  return [cambiar_palabra(palabra, generador) for palabra in lista_palabras]\n",
    "\n",
    "def grabar_archivo(nom_archivo, matriz, largo_linea=60):\n",
    "  with open(nom_archivo, 'w', encoding='utf-8') as archivo:\n",
    "    archivo.write(preparador_texto(matriz, largo_linea))\n",
    "\n",
    "# ---------------------------------- FUNCIONES ADICIONALES\n",
    "\n",
    "def usar_palabra_dic(palabra, diccionario):\n",
    "  palabra_extraida = diccionario[palabra].pop(0)\n",
    "  diccionario[palabra].append(palabra_extraida)\n",
    "  return palabra_extraida\n",
    "\n",
    "def cambiar_palabra(palabra, generador):\n",
    "  value = generador.send(palabra)\n",
    "  return list(filter(lambda x : bool(x), [value, palabra]))[0]\n",
    "\n",
    "def gen_cambio_palabras(diccionario):\n",
    "  palabras_vistas = []\n",
    "  while True:\n",
    "    palabra = yield\n",
    "    if palabra in palabras_vistas:\n",
    "      palabra = yield usar_palabra_dic(palabra, diccionario)\n",
    "    elif palabra in diccionario.keys():\n",
    "      palabras_vistas.append(palabra)\n",
    "\n",
    "def preparador_texto(lista, largo_linea):\n",
    "  nuevo_texto = []\n",
    "  nueva_linea = ''\n",
    "  for palabra in lista:\n",
    "    carac_parciales = len(palabra) + len(nueva_linea) + 1\n",
    "    if carac_parciales <= largo_linea:\n",
    "      if len(nueva_linea) == 0:\n",
    "        nueva_linea += palabra\n",
    "      else:\n",
    "        nueva_linea += ' '+palabra\n",
    "    else:\n",
    "      nuevo_texto.append(nueva_linea)\n",
    "      nueva_linea = palabra\n",
    "  nuevo_texto.append(nueva_linea)\n",
    "  return '\\n'.join(nuevo_texto) \n"
   ]
  },
  {
   "cell_type": "code",
   "execution_count": 0,
   "metadata": {
    "colab": {
     "base_uri": "https://localhost:8080/",
     "height": 221
    },
    "colab_type": "code",
    "executionInfo": {
     "elapsed": 14984,
     "status": "ok",
     "timestamp": 1567020162487,
     "user": {
      "displayName": "Ricardo Andres Del Rio Guzman",
      "photoUrl": "",
      "userId": "18331265285808513987"
     },
     "user_tz": 180
    },
    "id": "t0naoNifbFJ8",
    "outputId": "0fdd3981-1724-4d77-dfc5-45f69ad424a3"
   },
   "outputs": [
    {
     "name": "stdout",
     "output_type": "stream",
     "text": [
      "Ingresa el nombre del archivo con el texto: texto.txt\n",
      "Ingresa el nombre del archivo con el diccionario: diccionario.txt\n",
      "¿Cómo quieres que se llame el nuevo archivo? hola.txt\n",
      "\n",
      "Ingresa la cantidad de caracteres por línea del texto final\n",
      "                      \tDebe ser mínimo el largo de la palabra más extensa +1\n",
      "                      \tEnter para usar valor por defecto\n",
      "\n",
      "Procesando...\n",
      "Se ha establecido el largo por defecto.\n",
      "\n",
      "Listo! El archivo hola.txt se ha creado con el texto modificado.\n"
     ]
    }
   ],
   "source": [
    "'''EJECUCIÓN DE FUNCIONES'''\n",
    "\n",
    "if __name__ == '__main__':\n",
    "\n",
    "  archivo_texto = input('Ingresa el nombre del archivo con el texto: ')\n",
    "  archivo_dic = input('Ingresa el nombre del archivo con el diccionario: ')\n",
    "  nuevo_archivo = input('¿Cómo quieres que se llame el nuevo archivo? ')\n",
    "  carac_linea = input('''\\nIngresa la cantidad de caracteres por línea del texto final\n",
    "                      \\tDebe ser mínimo el largo de la palabra más extensa +1\n",
    "                      \\tEnter para usar valor por defecto\\n''')\n",
    "  print('Procesando...')\n",
    " \n",
    "\n",
    "  if carac_linea.isnumeric():\n",
    "    grabar_archivo(nuevo_archivo, \n",
    "                   cambiar_palabras(separar_palabras(leer_texto(archivo_texto)), \n",
    "                   leer_diccionario(archivo_dic)),\n",
    "                   int(carac_linea))\n",
    "  else:\n",
    "    print('Se ha establecido el largo por defecto.')\n",
    "    grabar_archivo(nuevo_archivo, \n",
    "                     cambiar_palabras(separar_palabras(leer_texto(archivo_texto)), \n",
    "                     leer_diccionario(archivo_dic)))\n",
    "  \n",
    "  print('\\nListo! El archivo {} se ha creado con el texto modificado.'.format(nuevo_archivo))"
   ]
  },
  {
   "cell_type": "code",
   "execution_count": 0,
   "metadata": {
    "colab": {
     "base_uri": "https://localhost:8080/",
     "height": 51
    },
    "colab_type": "code",
    "executionInfo": {
     "elapsed": 593,
     "status": "ok",
     "timestamp": 1567016220763,
     "user": {
      "displayName": "Ricardo Andres Del Rio Guzman",
      "photoUrl": "",
      "userId": "18331265285808513987"
     },
     "user_tz": 180
    },
    "id": "NBNWaZp9xGAE",
    "outputId": "18408b15-7366-4266-9648-ea24e2f727d8"
   },
   "outputs": [
    {
     "name": "stdout",
     "output_type": "stream",
     "text": [
      "['.config', 'fdlskhfalf.txt', 'hola.txt', 'texto.txt', 'diccionario.txt', 'sample_data']\n",
      "/content\n"
     ]
    }
   ],
   "source": [
    "from os import getcwd, listdir\n",
    "\n",
    "''' ESTE CÓDIGO PERMITE GENERAR LOS ARCHIVOS DE PRUEBA CON FACILIDAD '''\n",
    "\n",
    "with open('diccionario.txt', 'w', encoding='utf-8' ) as archivo:\n",
    "  archivo.write('''gato felino minino cuchito\n",
    "mono simio gorila macaco''')\n",
    "  \n",
    "with open('texto.txt', 'w', encoding='utf-8' ) as archivo:\n",
    "  archivo.write('''El gato de la Su salió a pasear en el bosque\n",
    "donde encontró otro gato que jugaba con un mono\n",
    "el primer gato se enojó con el otro gato porque ese gato\n",
    "le estaba pegando al pobre mono\n",
    "en ese momento vio que venía otro mono a defender al \n",
    "primer mono.''')\n",
    "\n",
    "print(listdir(getcwd()))\n",
    "print(getcwd())"
   ]
  },
  {
   "cell_type": "code",
   "execution_count": 0,
   "metadata": {
    "colab": {
     "base_uri": "https://localhost:8080/",
     "height": 122
    },
    "colab_type": "code",
    "executionInfo": {
     "elapsed": 36523,
     "status": "ok",
     "timestamp": 1566832636636,
     "user": {
      "displayName": "Ricardo Andres Del Rio Guzman",
      "photoUrl": "",
      "userId": "18331265285808513987"
     },
     "user_tz": 180
    },
    "id": "xOFT-GPVgA2x",
    "outputId": "4504f247-17de-4b29-a045-3d1c8c952532"
   },
   "outputs": [
    {
     "name": "stdout",
     "output_type": "stream",
     "text": [
      "Go to this URL in a browser: https://accounts.google.com/o/oauth2/auth?client_id=947318989803-6bn6qk8qdgf4n4g3pfee6491hc0brc4i.apps.googleusercontent.com&redirect_uri=urn%3Aietf%3Awg%3Aoauth%3A2.0%3Aoob&scope=email%20https%3A%2F%2Fwww.googleapis.com%2Fauth%2Fdocs.test%20https%3A%2F%2Fwww.googleapis.com%2Fauth%2Fdrive%20https%3A%2F%2Fwww.googleapis.com%2Fauth%2Fdrive.photos.readonly%20https%3A%2F%2Fwww.googleapis.com%2Fauth%2Fpeopleapi.readonly&response_type=code\n",
      "\n",
      "Enter your authorization code:\n",
      "··········\n",
      "Mounted at /content/drive\n"
     ]
    }
   ],
   "source": [
    "from google.colab import drive\n",
    "drive.mount('/content/drive')"
   ]
  },
  {
   "cell_type": "code",
   "execution_count": 11,
   "metadata": {
    "colab": {
     "base_uri": "https://localhost:8080/",
     "height": 327
    },
    "colab_type": "code",
    "executionInfo": {
     "elapsed": 44942,
     "status": "error",
     "timestamp": 1567089384903,
     "user": {
      "displayName": "Ricardo Andres Del Rio Guzman",
      "photoUrl": "",
      "userId": "18331265285808513987"
     },
     "user_tz": 180
    },
    "id": "Ls16roTDgCL6",
    "outputId": "34cf998b-a0fa-427f-ab4e-38498108cc50"
   },
   "outputs": [
    {
     "ename": "KeyboardInterrupt",
     "evalue": "ignored",
     "output_type": "error",
     "traceback": [
      "\u001b[0;31m---------------------------------------------------------------------------\u001b[0m",
      "\u001b[0;31mKeyboardInterrupt\u001b[0m                         Traceback (most recent call last)",
      "\u001b[0;32m<ipython-input-11-b1fa0ed26ffd>\u001b[0m in \u001b[0;36m<module>\u001b[0;34m()\u001b[0m\n\u001b[1;32m      8\u001b[0m  \u001b[0;31m# print(i)\u001b[0m\u001b[0;34m\u001b[0m\u001b[0;34m\u001b[0m\u001b[0;34m\u001b[0m\u001b[0m\n\u001b[1;32m      9\u001b[0m \u001b[0;34m\u001b[0m\u001b[0m\n\u001b[0;32m---> 10\u001b[0;31m \u001b[0mprint\u001b[0m\u001b[0;34m(\u001b[0m\u001b[0;36m145\u001b[0m \u001b[0;32min\u001b[0m \u001b[0mmultiplos_de\u001b[0m\u001b[0;34m(\u001b[0m\u001b[0;36m9\u001b[0m\u001b[0;34m)\u001b[0m\u001b[0;34m)\u001b[0m\u001b[0;34m\u001b[0m\u001b[0;34m\u001b[0m\u001b[0m\n\u001b[0m",
      "\u001b[0;32m<ipython-input-11-b1fa0ed26ffd>\u001b[0m in \u001b[0;36mmultiplos_de\u001b[0;34m(n)\u001b[0m\n\u001b[1;32m      2\u001b[0m     \u001b[0mindex\u001b[0m \u001b[0;34m=\u001b[0m \u001b[0;36m1\u001b[0m\u001b[0;34m\u001b[0m\u001b[0;34m\u001b[0m\u001b[0m\n\u001b[1;32m      3\u001b[0m     \u001b[0;32mwhile\u001b[0m \u001b[0;32mTrue\u001b[0m\u001b[0;34m:\u001b[0m \u001b[0;31m#index<20:\u001b[0m\u001b[0;34m\u001b[0m\u001b[0;34m\u001b[0m\u001b[0m\n\u001b[0;32m----> 4\u001b[0;31m       \u001b[0;32myield\u001b[0m \u001b[0mindex\u001b[0m\u001b[0;34m*\u001b[0m\u001b[0mn\u001b[0m\u001b[0;34m\u001b[0m\u001b[0;34m\u001b[0m\u001b[0m\n\u001b[0m\u001b[1;32m      5\u001b[0m       \u001b[0mindex\u001b[0m \u001b[0;34m=\u001b[0m \u001b[0mindex\u001b[0m \u001b[0;34m+\u001b[0m \u001b[0;36m1\u001b[0m\u001b[0;34m\u001b[0m\u001b[0;34m\u001b[0m\u001b[0m\n\u001b[1;32m      6\u001b[0m \u001b[0;34m\u001b[0m\u001b[0m\n",
      "\u001b[0;31mKeyboardInterrupt\u001b[0m: "
     ]
    }
   ],
   "source": [
    "def multiplos_de(n):\n",
    "    index = 1\n",
    "    while True: #index<20:\n",
    "      yield index*n\n",
    "      index = index + 1\n",
    "\n",
    "#for i in multiplos_de(9):\n",
    " # print(i)\n",
    "\n",
    "print(145 in multiplos_de(9))\n",
    "\n",
    "\n",
    "\n",
    "\n"
   ]
  },
  {
   "cell_type": "code",
   "execution_count": 2,
   "metadata": {
    "colab": {
     "base_uri": "https://localhost:8080/",
     "height": 34
    },
    "colab_type": "code",
    "executionInfo": {
     "elapsed": 794,
     "status": "ok",
     "timestamp": 1567089143837,
     "user": {
      "displayName": "Ricardo Andres Del Rio Guzman",
      "photoUrl": "",
      "userId": "18331265285808513987"
     },
     "user_tz": 180
    },
    "id": "Ji_34YsZVxGb",
    "outputId": "e4868431-33b7-4866-9def-3b1e76b07cbd"
   },
   "outputs": [
    {
     "name": "stdout",
     "output_type": "stream",
     "text": [
      "[9, 18, 27, 36, 45, 54, 63, 72, 81, 90, 99, 108, 117, 126, 135, 144, 153, 162, 171]\n"
     ]
    }
   ],
   "source": [
    "print(list(multiplos_de(9)))"
   ]
  },
  {
   "cell_type": "code",
   "execution_count": 0,
   "metadata": {
    "colab": {
     "base_uri": "https://localhost:8080/",
     "height": 34
    },
    "colab_type": "code",
    "executionInfo": {
     "elapsed": 597,
     "status": "ok",
     "timestamp": 1567016596600,
     "user": {
      "displayName": "Ricardo Andres Del Rio Guzman",
      "photoUrl": "",
      "userId": "18331265285808513987"
     },
     "user_tz": 180
    },
    "id": "aUTihkubWzsh",
    "outputId": "6166194a-b956-4864-a099-58441b525526"
   },
   "outputs": [
    {
     "name": "stdout",
     "output_type": "stream",
     "text": [
      "['Ricardo', 'Carlos', 'Andres', 'Rene', 'Lucas', 'Alejandro']\n"
     ]
    }
   ],
   "source": [
    "lista = ['ricardo', 'carlos', 'andres', 'rene', 'lucas', 'alejandro']\n",
    "print(list(map(lambda nom: nom.capitalize(), lista)))"
   ]
  },
  {
   "cell_type": "code",
   "execution_count": 0,
   "metadata": {
    "colab": {
     "base_uri": "https://localhost:8080/",
     "height": 34
    },
    "colab_type": "code",
    "executionInfo": {
     "elapsed": 673,
     "status": "ok",
     "timestamp": 1567016718674,
     "user": {
      "displayName": "Ricardo Andres Del Rio Guzman",
      "photoUrl": "",
      "userId": "18331265285808513987"
     },
     "user_tz": 180
    },
    "id": "WyFdUGfTdy3M",
    "outputId": "f92deda8-58b4-4fe6-c21d-86693ba766d0"
   },
   "outputs": [
    {
     "name": "stdout",
     "output_type": "stream",
     "text": [
      "[2, 4, 6, 8, 10, 12, 14, 16, 18]\n"
     ]
    }
   ],
   "source": [
    "lista = [1,2,3,4,5,6,7,8,9,10,11,12,13,14,15,16,17,18]\n",
    "print(list(filter(lambda x: x%2 == 0, lista)))"
   ]
  },
  {
   "cell_type": "code",
   "execution_count": 0,
   "metadata": {
    "colab": {},
    "colab_type": "code",
    "id": "XlenztCAeY1j"
   },
   "outputs": [],
   "source": []
  }
 ],
 "metadata": {
  "colab": {
   "collapsed_sections": [],
   "name": "Mejora Proyecto 1 - Ricardo Del Río.ipynb",
   "provenance": [
    {
     "file_id": "1Qa1OqXIw84wwyEaSm3Tzo8oJm1wlUD6v",
     "timestamp": 1567006520104
    }
   ],
   "version": "0.3.2"
  },
  "kernelspec": {
   "display_name": "Python 3",
   "language": "python",
   "name": "python3"
  },
  "language_info": {
   "codemirror_mode": {
    "name": "ipython",
    "version": 3
   },
   "file_extension": ".py",
   "mimetype": "text/x-python",
   "name": "python",
   "nbconvert_exporter": "python",
   "pygments_lexer": "ipython3",
   "version": "3.8.1"
  },
  "toc": {
   "base_numbering": 1,
   "nav_menu": {},
   "number_sections": true,
   "sideBar": true,
   "skip_h1_title": false,
   "title_cell": "Table of Contents",
   "title_sidebar": "Contents",
   "toc_cell": false,
   "toc_position": {},
   "toc_section_display": true,
   "toc_window_display": false
  }
 },
 "nbformat": 4,
 "nbformat_minor": 1
}
