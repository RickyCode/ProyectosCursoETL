{
 "cells": [
  {
   "cell_type": "markdown",
   "metadata": {},
   "source": [
    "# Proyecto 0\n",
    "\n",
    "## Por Ricardo A. Del Río Guzmán"
   ]
  },
  {
   "cell_type": "code",
   "execution_count": 72,
   "metadata": {},
   "outputs": [
    {
     "name": "stdout",
     "output_type": "stream",
     "text": [
      "Ingresa un número: 10\n"
     ]
    }
   ],
   "source": [
    "# Solicito el núemero al usuario:\n",
    "num = int(input('Ingresa un número: '))"
   ]
  },
  {
   "cell_type": "code",
   "execution_count": 78,
   "metadata": {},
   "outputs": [
    {
     "name": "stdout",
     "output_type": "stream",
     "text": [
      "\n",
      "      1    2    3    4    5    6    7    8    9    10   \n",
      "\n",
      "1     1    2    3    4    5    6    7    8    9    10   \n",
      "2     2    4    6    8    10   12   14   16   18   20   \n",
      "3     3    6    9    12   15   18   21   24   27   30   \n",
      "4     4    8    12   16   20   24   28   32   36   40   \n",
      "5     5    10   15   20   25   30   35   40   45   50   \n",
      "6     6    12   18   24   30   36   42   48   54   60   \n",
      "7     7    14   21   28   35   42   49   56   63   70   \n",
      "8     8    16   24   32   40   48   56   64   72   80   \n",
      "9     9    18   27   36   45   54   63   72   81   90   \n",
      "10    10   20   30   40   50   60   70   80   90   100  \n"
     ]
    }
   ],
   "source": [
    "# Versión poco elegante del programa\n",
    "\n",
    "# Mido la cantidad de cifras del numero del usuario:\n",
    "in_s = len(str(num))\n",
    "\n",
    "# Formateo de las primeras dos líneas de lo que se muestra al usuario:\n",
    "print('\\n' + ' '*(in_s+4), end=\"\")\n",
    "for j in range(1, num+1):\n",
    "     print(str(j).ljust(in_s+2), end=\" \")\n",
    "print(\"\\n\")\n",
    "\n",
    "# Estructuración de la primera columna con los múltiplos y demás columnas con los resultados de las multiplicaciones:\n",
    "for mult in range(1, num+1):\n",
    "    print(str(mult).ljust(in_s+2), end=\"  \")\n",
    "    for i in range(1,num+1):\n",
    "        print(str(i*mult).ljust(in_s+2), end=\" \")\n",
    "    print()\n",
    "    "
   ]
  },
  {
   "cell_type": "code",
   "execution_count": 80,
   "metadata": {},
   "outputs": [
    {
     "name": "stdout",
     "output_type": "stream",
     "text": [
      "\n",
      "\t\t 5 \t 6 \t 7 \t 8 \t 9 \t 10 \n",
      "\n",
      "\t 5\t 25\t 30\t 35\t 40\t 45\t 50\n",
      "\t 6\t 30\t 36\t 42\t 48\t 54\t 60\n",
      "\t 7\t 35\t 42\t 49\t 56\t 63\t 70\n",
      "\t 8\t 40\t 48\t 56\t 64\t 72\t 80\n",
      "\t 9\t 45\t 54\t 63\t 72\t 81\t 90\n",
      "\t 10\t 50\t 60\t 70\t 80\t 90\t 100\n"
     ]
    }
   ],
   "source": [
    "# Version más elegante del programa usando tabuladores\n",
    "\n",
    "print('\\n', end=\"\\t\")\n",
    "for j in range(5, num+1):\n",
    "     print('\\t',j, end=\" \")\n",
    "print(\"\\n\")\n",
    "\n",
    "for mult in range(5, num+1):\n",
    "    print('\\t',mult, end=\"\")\n",
    "    for i in range(5,num+1):\n",
    "        print('\\t',i*mult, end=\"\")\n",
    "    print()\n",
    "    "
   ]
  }
 ],
 "metadata": {
  "kernelspec": {
   "display_name": "Python 3",
   "language": "python",
   "name": "python3"
  },
  "language_info": {
   "codemirror_mode": {
    "name": "ipython",
    "version": 3
   },
   "file_extension": ".py",
   "mimetype": "text/x-python",
   "name": "python",
   "nbconvert_exporter": "python",
   "pygments_lexer": "ipython3",
   "version": "3.8.1"
  },
  "toc": {
   "base_numbering": 1,
   "nav_menu": {},
   "number_sections": true,
   "sideBar": true,
   "skip_h1_title": false,
   "title_cell": "Table of Contents",
   "title_sidebar": "Contents",
   "toc_cell": false,
   "toc_position": {},
   "toc_section_display": true,
   "toc_window_display": false
  }
 },
 "nbformat": 4,
 "nbformat_minor": 2
}
