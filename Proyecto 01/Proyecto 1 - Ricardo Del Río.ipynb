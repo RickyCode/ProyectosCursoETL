{
 "cells": [
  {
   "cell_type": "code",
   "execution_count": 0,
   "metadata": {
    "colab": {},
    "colab_type": "code",
    "id": "ciVXbYkBBoDQ"
   },
   "outputs": [],
   "source": [
    "__author__ = 'Ricardo Del Río Guzmán'\n",
    "\n",
    "'''DEFINICIONES DE FUNCIONES'''\n",
    "\n",
    "# ---------------------------------- FUNCIONES SOLICITADAS\n",
    "\n",
    "def leer_diccionario(nom_archivo):\n",
    "  # Construye y retorna el diccionario\n",
    "  diccionario = {}\n",
    "\n",
    "  with open(nom_archivo, 'r', encoding='utf-8') as archivo:\n",
    "    lineas = archivo.readlines()\n",
    "  for linea in lineas:\n",
    "    palabras = linea.strip().split()\n",
    "    contador = 0\n",
    "    palabra_base = ''\n",
    "    for palabra in palabras:\n",
    "        contador +=1\n",
    "        if contador == 1:\n",
    "          palabra_base = palabra\n",
    "          diccionario[palabra_base] = []\n",
    "        else: \n",
    "          diccionario[palabra_base].append(palabra)\n",
    "  \n",
    "  return diccionario\n",
    "\n",
    "\n",
    "\n",
    "def leer_texto(nom_archivo):\n",
    "  # Lee el archivo línea por línea y retorna una lista donde cada \n",
    "  # elemento corresponde a una línea de texto.\n",
    "  with open(nom_archivo, 'r', encoding='utf-8') as archivo:\n",
    "    return archivo.readlines()\n",
    "\n",
    "def separar_palabras(lista_lineas, separador=' '):\n",
    "  # Separa las palabras contenidas en las líneas procesadas.\n",
    "  # Cada línea procesada pasa a ser una nueva lista cuyos\n",
    "  # elementos son sus palabras.\n",
    "  matriz_palabras = []\n",
    "  for linea in lista_lineas:\n",
    "    matriz_palabras.append(linea.strip().strip('\\ufeff').split(separador))\n",
    "  return matriz_palabras\n",
    "\n",
    "def cambiar_palabras(matriz_palabras, diccionario):\n",
    "  # Cambia las palabras de un texto usando el diccionario previamente \n",
    "  # leído.\n",
    "  palabras_vistas = []\n",
    "  num_linea = 0\n",
    "  for linea in matriz_palabras:\n",
    "    num_palabra = 0\n",
    "    for palabra in linea:\n",
    "      palabra = palabra.strip('.').strip(',')\n",
    "      # Si es llave del diccionario y ya fue vista antes:\n",
    "      if palabra in palabras_vistas:\n",
    "        matriz_palabras[num_linea][num_palabra] = usar_palabra_dic(palabra, diccionario)\n",
    "      # Si la palabra es llave del dic. y no ha sido vista antes\n",
    "      elif palabra in diccionario.keys():\n",
    "        palabras_vistas.append(palabra)\n",
    "      num_palabra += 1\n",
    "    num_linea += 1\n",
    "  return matriz_palabras\n",
    "\n",
    "def grabar_archivo(nom_archivo, matriz, largo_linea=60):\n",
    "  # Graba el archivo línea por línea de forma que cada línea escrita \n",
    "  # no supere la cantidad \"largo_linea\" de caracteres\n",
    "  with open(nom_archivo, 'w', encoding='utf-8') as archivo:\n",
    "    archivo.write(preparador_texto(matriz, largo_linea))\n",
    "    \n",
    "\n",
    "# ---------------------------------- FUNCIONES ADICIONALES\n",
    "\n",
    "def usar_palabra_dic(palabra, diccionario):\n",
    "  # Esta función se encarga de cambiar el orden de las palabras en el\n",
    "  # diccionario a medida que las palabras son usadas.\n",
    "  palabra_extraida = diccionario[palabra].pop(0)\n",
    "  diccionario[palabra].append(palabra_extraida)\n",
    "  return palabra_extraida\n",
    "\n",
    "def preparador_texto(matriz, largo_linea):\n",
    "  # Convierte la matriz de palabras en un texto con un máximo de caracteres por\n",
    "  # líneas.\n",
    "\n",
    "  #lista_palabras = []\n",
    "  #for linea in matriz:\n",
    "  #  lista_palabras += linea\n",
    "\n",
    "  nuevo_texto = []\n",
    "  nueva_linea = ''\n",
    "  cant_palabras = 0 # Conteo de palabras en la nueva línea\n",
    "\n",
    "  for linea in matriz:\n",
    "    for palabra in linea:\n",
    "      # Se calcula cuánto pasaría a medir la línea:\n",
    "      carac_parciales = len(palabra) + len(nueva_linea) + 1\n",
    "      # print(len(palabra), len(nueva_linea), cant_palabras)\n",
    "      # Si se mantendría bajo el límite:\n",
    "      if carac_parciales <= largo_linea:\n",
    "        cant_palabras += 1\n",
    "        if len(nueva_linea) == 0:\n",
    "          nueva_linea += palabra\n",
    "        else:\n",
    "          nueva_linea += ' '+palabra\n",
    "      # Si supera el límite:\n",
    "      else:\n",
    "        # print('SE SUPERO EL LIMITE CON LA PALABRA {}\\nLa linea mediría {}'.format(palabra, carac_parciales))\n",
    "        nuevo_texto.append(nueva_linea)\n",
    "        # Se añade la palabra como primera de la siguiente línea:\n",
    "        cant_palabras = 1\n",
    "        nueva_linea = palabra\n",
    "  nuevo_texto.append(nueva_linea)\n",
    "\n",
    "  print('\\nEl texto modificado es: \\n\\n'+'123456789 '*((largo_linea//10)+1)+'\\n\\n{}'.format('\\n'.join(nuevo_texto)))\n",
    "  print('\\n'+'123456789 '*((largo_linea//10)+1))\n",
    "\n",
    "  return '\\n'.join(nuevo_texto)\n"
   ]
  },
  {
   "cell_type": "code",
   "execution_count": 10,
   "metadata": {
    "colab": {
     "base_uri": "https://localhost:8080/",
     "height": 445
    },
    "colab_type": "code",
    "executionInfo": {
     "elapsed": 28326,
     "status": "ok",
     "timestamp": 1566832711079,
     "user": {
      "displayName": "Ricardo Andres Del Rio Guzman",
      "photoUrl": "",
      "userId": "18331265285808513987"
     },
     "user_tz": 180
    },
    "id": "t0naoNifbFJ8",
    "outputId": "20c7b18b-8a8e-42d7-94b3-ec3802115eb9"
   },
   "outputs": [
    {
     "name": "stdout",
     "output_type": "stream",
     "text": [
      "Ingresa el nombre del archivo con el texto: /content/drive/My Drive/Classroom/Machine Learning C3 - 2 GRU/Ricardo Andres Del Rio Guzman - texto.txt\n",
      "Ingresa el nombre del archivo con el diccionario: /content/drive/My Drive/Classroom/Machine Learning C3 - 2 GRU/Ricardo Andres Del Rio Guzman - diccionario.txt\n",
      "¿Cómo quieres que se llame el nuevo archivo? nuevo_texto.txt\n",
      "\n",
      "Ingresa la cantidad de caracteres por línea del texto final\n",
      "                      \tDebe ser mínimo el largo de la palabra más extensa +1\n",
      "                      \tEnter para usar valor por defecto\n",
      "\n",
      "Procesando...\n",
      "Se ha establecido el largo por defecto.\n",
      "\n",
      "El texto modificado es: \n",
      "\n",
      "123456789 123456789 123456789 123456789 123456789 123456789 123456789 \n",
      "\n",
      "El gato de la Su salió a pasear en el bosque donde encontró\n",
      "otro felino que jugaba con un mono el primer minino se enojó\n",
      "con el otro cuchito porque ese felino le estaba pegando al\n",
      "pobre simio en ese momento vio que venía otro gorila a\n",
      "defender al primer macaco\n",
      "\n",
      "123456789 123456789 123456789 123456789 123456789 123456789 123456789 \n",
      "\n",
      "Listo! El archivo nuevo_texto.txt se ha creado con el texto modificado.\n"
     ]
    }
   ],
   "source": [
    "'''EJECUCIÓN DE FUNCIONES'''\n",
    "\n",
    "if __name__ == '__main__':\n",
    "\n",
    "  archivo_texto = input('Ingresa el nombre del archivo con el texto: ')\n",
    "  archivo_dic = input('Ingresa el nombre del archivo con el diccionario: ')\n",
    "  nuevo_archivo = input('¿Cómo quieres que se llame el nuevo archivo? ')\n",
    "  carac_linea = input('''\\nIngresa la cantidad de caracteres por línea del texto final\n",
    "                      \\tDebe ser mínimo el largo de la palabra más extensa +1\n",
    "                      \\tEnter para usar valor por defecto\\n''')\n",
    "  print('Procesando...')\n",
    " \n",
    "\n",
    "  if carac_linea.isnumeric():\n",
    "    grabar_archivo(nuevo_archivo, \n",
    "                   cambiar_palabras(separar_palabras(leer_texto(archivo_texto)), \n",
    "                   leer_diccionario(archivo_dic)),\n",
    "                   int(carac_linea))\n",
    "  else:\n",
    "    print('Se ha establecido el largo por defecto.')\n",
    "    grabar_archivo(nuevo_archivo, \n",
    "                     cambiar_palabras(separar_palabras(leer_texto(archivo_texto)), \n",
    "                     leer_diccionario(archivo_dic)))\n",
    "  \n",
    "  print('\\nListo! El archivo {} se ha creado con el texto modificado.'.format(nuevo_archivo))"
   ]
  },
  {
   "cell_type": "code",
   "execution_count": 4,
   "metadata": {
    "colab": {
     "base_uri": "https://localhost:8080/",
     "height": 34
    },
    "colab_type": "code",
    "executionInfo": {
     "elapsed": 498,
     "status": "ok",
     "timestamp": 1566832165096,
     "user": {
      "displayName": "Ricardo Andres Del Rio Guzman",
      "photoUrl": "",
      "userId": "18331265285808513987"
     },
     "user_tz": 180
    },
    "id": "NBNWaZp9xGAE",
    "outputId": "fa0c47ce-85b7-452c-e515-01ff6b72845b"
   },
   "outputs": [
    {
     "name": "stdout",
     "output_type": "stream",
     "text": [
      "['.config', 'diccionario.txt', 'texto.txt', 'sample_data']\n"
     ]
    }
   ],
   "source": [
    "from os import getcwd, listdir\n",
    "\n",
    "''' ESTE CÓDIGO PERMITE GENERAR LOS ARCHIVOS DE PRUEBA CON FACILIDAD '''\n",
    "\n",
    "with open('diccionario.txt', 'w', encoding='utf-8' ) as archivo:\n",
    "  archivo.write('''gato felino minino cuchito\n",
    "mono simio gorila macaco''')\n",
    "  \n",
    "with open('texto.txt', 'w', encoding='utf-8' ) as archivo:\n",
    "  archivo.write('''El gato de la Su salió a pasear en el bosque\n",
    "donde encontró otro gato que jugaba con un mono\n",
    "el primer gato se enojó con el otro gato porque ese gato\n",
    "le estaba pegando al pobre mono\n",
    "en ese momento vio que venía otro mono a defender al \n",
    "primer mono.''')\n",
    "\n",
    "print(listdir(getcwd()))"
   ]
  },
  {
   "cell_type": "code",
   "execution_count": 9,
   "metadata": {
    "colab": {
     "base_uri": "https://localhost:8080/",
     "height": 122
    },
    "colab_type": "code",
    "executionInfo": {
     "elapsed": 36523,
     "status": "ok",
     "timestamp": 1566832636636,
     "user": {
      "displayName": "Ricardo Andres Del Rio Guzman",
      "photoUrl": "",
      "userId": "18331265285808513987"
     },
     "user_tz": 180
    },
    "id": "xOFT-GPVgA2x",
    "outputId": "4504f247-17de-4b29-a045-3d1c8c952532"
   },
   "outputs": [
    {
     "name": "stdout",
     "output_type": "stream",
     "text": [
      "Go to this URL in a browser: https://accounts.google.com/o/oauth2/auth?client_id=947318989803-6bn6qk8qdgf4n4g3pfee6491hc0brc4i.apps.googleusercontent.com&redirect_uri=urn%3Aietf%3Awg%3Aoauth%3A2.0%3Aoob&scope=email%20https%3A%2F%2Fwww.googleapis.com%2Fauth%2Fdocs.test%20https%3A%2F%2Fwww.googleapis.com%2Fauth%2Fdrive%20https%3A%2F%2Fwww.googleapis.com%2Fauth%2Fdrive.photos.readonly%20https%3A%2F%2Fwww.googleapis.com%2Fauth%2Fpeopleapi.readonly&response_type=code\n",
      "\n",
      "Enter your authorization code:\n",
      "··········\n",
      "Mounted at /content/drive\n"
     ]
    }
   ],
   "source": [
    "from google.colab import drive\n",
    "drive.mount('/content/drive')"
   ]
  },
  {
   "cell_type": "code",
   "execution_count": 0,
   "metadata": {
    "colab": {},
    "colab_type": "code",
    "id": "Ls16roTDgCL6"
   },
   "outputs": [],
   "source": []
  }
 ],
 "metadata": {
  "colab": {
   "collapsed_sections": [],
   "name": "Proyecto 1 - Ricardo Del Río.ipynb",
   "provenance": [],
   "version": "0.3.2"
  },
  "kernelspec": {
   "display_name": "Python 3",
   "language": "python",
   "name": "python3"
  },
  "language_info": {
   "codemirror_mode": {
    "name": "ipython",
    "version": 3
   },
   "file_extension": ".py",
   "mimetype": "text/x-python",
   "name": "python",
   "nbconvert_exporter": "python",
   "pygments_lexer": "ipython3",
   "version": "3.8.1"
  },
  "toc": {
   "base_numbering": 1,
   "nav_menu": {},
   "number_sections": true,
   "sideBar": true,
   "skip_h1_title": false,
   "title_cell": "Table of Contents",
   "title_sidebar": "Contents",
   "toc_cell": false,
   "toc_position": {},
   "toc_section_display": true,
   "toc_window_display": false
  }
 },
 "nbformat": 4,
 "nbformat_minor": 1
}
